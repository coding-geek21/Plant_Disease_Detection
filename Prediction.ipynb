{
  "cells": [
    {
      "cell_type": "markdown",
      "metadata": {
        "id": "view-in-github",
        "colab_type": "text"
      },
      "source": [
        "<a href=\"https://colab.research.google.com/github/pradhicsha6/Plant_Disease_Detection/blob/main/Prediction.ipynb\" target=\"_parent\"><img src=\"https://colab.research.google.com/assets/colab-badge.svg\" alt=\"Open In Colab\"/></a>"
      ]
    },
    {
      "cell_type": "code",
      "execution_count": 18,
      "metadata": {
        "id": "uXQWJvu4-Mju"
      },
      "outputs": [],
      "source": [
        "y_pred = model.predict(test_set)"
      ]
    },
    {
      "cell_type": "code",
      "execution_count": 19,
      "metadata": {
        "id": "xb1fTo_m-RHE",
        "colab": {
          "base_uri": "https://localhost:8080/",
          "height": 0
        },
        "outputId": "07a82a81-f327-4b00-c84c-7e8462979504"
      },
      "outputs": [
        {
          "output_type": "execute_result",
          "data": {
            "text/plain": [
              "array([[3.2389543e-08, 4.3491615e-09, 8.1463775e-05, 3.9559528e-29,\n",
              "        2.6731166e-01, 7.3260689e-01],\n",
              "       [2.1722347e-03, 8.9280363e-08, 2.4805738e-01, 8.6443226e-35,\n",
              "        2.2021422e-06, 7.4976808e-01],\n",
              "       [9.8408182e-06, 1.2211601e-04, 1.3494880e-04, 3.2233282e-27,\n",
              "        4.9778323e-06, 9.9972814e-01],\n",
              "       ...,\n",
              "       [8.6386496e-04, 1.2877356e-04, 8.9708495e-01, 3.8740309e-26,\n",
              "        2.8865361e-06, 1.0191955e-01],\n",
              "       [6.1384591e-05, 1.7564169e-01, 3.3218944e-03, 2.6221527e-27,\n",
              "        1.1100953e-05, 8.2096398e-01],\n",
              "       [1.6280904e-11, 2.5365317e-11, 3.0905012e-09, 9.5873310e-34,\n",
              "        7.9762215e-09, 1.0000000e+00]], dtype=float32)"
            ]
          },
          "metadata": {},
          "execution_count": 19
        }
      ],
      "source": [
        "y_pred"
      ]
    },
    {
      "cell_type": "code",
      "execution_count": 20,
      "metadata": {
        "id": "vwYPFHDf-UNF"
      },
      "outputs": [],
      "source": [
        "import numpy as np\n",
        "y_pred = np.argmax(y_pred, axis=1)"
      ]
    },
    {
      "cell_type": "code",
      "execution_count": 21,
      "metadata": {
        "id": "5YdX0WTy-WeF",
        "colab": {
          "base_uri": "https://localhost:8080/",
          "height": 0
        },
        "outputId": "ae451e5c-b172-47ad-b1bb-1be2a345743c"
      },
      "outputs": [
        {
          "output_type": "execute_result",
          "data": {
            "text/plain": [
              "array([5, 5, 5, 2, 5, 5, 5, 5, 5, 5, 2, 5, 5, 5, 5, 5, 5, 5, 2, 2, 5, 5,\n",
              "       5, 5, 5, 5, 2, 5, 5, 2, 1, 5, 5, 5, 2, 5, 4, 2, 5, 5, 2, 5, 5, 5,\n",
              "       4, 5, 5, 5, 5, 2, 5, 5, 5, 5, 5, 5, 5, 5, 5, 5, 5, 5, 2, 5, 5, 2,\n",
              "       2, 2, 5, 5, 5, 2, 1, 2, 5, 5, 5, 5, 5, 5, 5, 2, 5, 5, 5, 5, 5, 2,\n",
              "       5, 2, 5, 4, 5, 5, 5, 5, 5, 5, 5, 2, 5, 2, 5, 5, 2, 5, 5, 5, 2, 5,\n",
              "       5, 5, 5, 5, 5, 5, 5, 5, 5, 5, 5, 2, 2, 1, 2, 5, 2, 5, 2, 5, 5, 2,\n",
              "       5, 5, 5, 5, 5, 2, 5, 5, 5, 5, 5, 5, 5, 5, 5, 5, 5, 5, 5, 5, 2, 5,\n",
              "       5, 5, 5, 2, 2, 5, 2, 5, 5, 2, 5, 2, 2, 2, 2, 2, 5, 5, 5, 5, 5, 5,\n",
              "       5, 5, 5, 2, 5, 5, 5, 5, 5, 5, 5, 5, 5, 5, 5, 2, 5, 1, 2, 5, 5, 5,\n",
              "       5, 5, 5, 5, 5, 5, 5, 5, 5, 2, 5, 5, 2, 2, 5, 5, 2, 5, 5, 5, 5, 5,\n",
              "       2, 5, 5, 5, 5, 2, 5, 5, 5, 5, 5, 5, 2, 5, 5, 5, 2, 5, 5, 5, 5, 5,\n",
              "       5, 5, 5, 5, 5, 5, 2, 5, 2, 5, 5, 5, 5, 5, 5, 5, 2, 5, 2, 5, 5, 5,\n",
              "       5, 5, 5, 2, 2, 2, 2, 5, 5, 5, 5, 5, 5, 2, 5, 5, 5, 5, 5, 5, 5, 5,\n",
              "       2, 5, 2, 2, 2, 5, 5, 5, 5, 2, 5, 5, 5, 5, 5, 5, 2, 5, 2, 2, 2, 5,\n",
              "       5, 5, 5, 5, 5, 2, 5, 5, 2, 2, 5, 5, 5, 5, 5, 5, 2, 2, 5, 5, 5, 5,\n",
              "       5, 5, 5, 5, 5, 5, 5, 5, 5, 5, 5, 5, 5, 5, 2, 5, 5, 5, 5, 2, 5, 5,\n",
              "       5, 5, 2, 5, 5, 5, 5, 2, 5, 5, 5, 5, 5, 5, 2, 5, 5, 5, 5, 5, 5, 5,\n",
              "       5, 2, 2, 2, 5, 5, 5, 2, 5, 5, 5, 2, 5, 5, 5, 1, 2, 5, 5, 2, 5, 2,\n",
              "       5, 5, 2, 5, 5, 5, 2, 5, 2, 5, 5, 5, 2, 5, 2, 2, 5, 5, 5, 5, 5, 2,\n",
              "       5, 5, 5, 5, 5, 5, 5, 2, 5, 2, 5, 5, 5, 5, 5, 2, 4, 5, 5, 5, 5, 5,\n",
              "       5, 5, 5, 5, 5, 2, 2, 5, 5, 5, 4, 2, 5, 5, 5, 5, 5, 5, 5, 2, 5, 5,\n",
              "       5, 2, 5, 5, 5, 5, 5, 2, 2, 5, 5, 5, 5, 5, 5, 2, 5, 2, 5, 5, 2, 2,\n",
              "       5, 2, 5, 5, 5, 5, 5, 5, 5, 5, 5, 5, 5, 2, 2, 5, 2, 5, 2, 2, 5, 5,\n",
              "       5, 4, 5, 5, 5, 2, 5, 5, 5, 2, 5, 5, 5, 5, 2, 5, 5, 5, 2, 5, 5, 5,\n",
              "       5, 5, 5, 2, 5, 2, 5, 5, 5, 2, 5, 2, 5, 5, 5, 5, 5, 2, 2, 5, 2, 5,\n",
              "       5, 5, 5, 5, 5, 5, 2, 5, 5])"
            ]
          },
          "metadata": {},
          "execution_count": 21
        }
      ],
      "source": [
        "y_pred"
      ]
    },
    {
      "cell_type": "code",
      "execution_count": 22,
      "metadata": {
        "id": "4SYzIMiw-Ybs"
      },
      "outputs": [],
      "source": [
        "from tensorflow.keras.models import load_model\n",
        "from tensorflow.keras.preprocessing import image"
      ]
    },
    {
      "cell_type": "code",
      "source": [
        "model=load_model('model_inception.h5')"
      ],
      "metadata": {
        "id": "vharllg7Y3uh"
      },
      "execution_count": 23,
      "outputs": []
    },
    {
      "cell_type": "code",
      "source": [
        "img=image.load_img('/content/drive/MyDrive/summer_project/Dataset_RGB/Test_10%/Tomato_healthy/3d0c2ad7-4fc4-48df-9ee0-11932921ddd0___RS_HL 0633.JPG',target_size=(224,224)) "
      ],
      "metadata": {
        "id": "Ny0A-aa6ZDHI"
      },
      "execution_count": 24,
      "outputs": []
    },
    {
      "cell_type": "code",
      "source": [
        "x=image.img_to_array(img)"
      ],
      "metadata": {
        "id": "_iiA9JoHZGhv"
      },
      "execution_count": 25,
      "outputs": []
    },
    {
      "cell_type": "code",
      "source": [
        "x.shape"
      ],
      "metadata": {
        "id": "6tABemazZL2h",
        "colab": {
          "base_uri": "https://localhost:8080/",
          "height": 0
        },
        "outputId": "79292225-9673-45ae-f335-bb4799578ad3"
      },
      "execution_count": 26,
      "outputs": [
        {
          "output_type": "execute_result",
          "data": {
            "text/plain": [
              "(224, 224, 3)"
            ]
          },
          "metadata": {},
          "execution_count": 26
        }
      ]
    },
    {
      "cell_type": "code",
      "source": [
        "x=x/255"
      ],
      "metadata": {
        "id": "G4KSPMv6ZPI8"
      },
      "execution_count": 27,
      "outputs": []
    },
    {
      "cell_type": "code",
      "source": [
        "import numpy as np\n",
        "x=np.expand_dims(x,axis=0)\n",
        "img_data=preprocess_input(x)\n",
        "img_data.shape"
      ],
      "metadata": {
        "id": "pgexsCRMZR5j",
        "colab": {
          "base_uri": "https://localhost:8080/",
          "height": 0
        },
        "outputId": "ac19aa91-4123-48c3-e884-307f6b4b02b1"
      },
      "execution_count": 28,
      "outputs": [
        {
          "output_type": "execute_result",
          "data": {
            "text/plain": [
              "(1, 224, 224, 3)"
            ]
          },
          "metadata": {},
          "execution_count": 28
        }
      ]
    },
    {
      "cell_type": "code",
      "source": [
        "model.predict(img_data)"
      ],
      "metadata": {
        "id": "BuKznDWTZVMZ",
        "colab": {
          "base_uri": "https://localhost:8080/",
          "height": 0
        },
        "outputId": "be3adb1d-0b16-43f1-8a3c-e1f45b96a512"
      },
      "execution_count": 29,
      "outputs": [
        {
          "output_type": "execute_result",
          "data": {
            "text/plain": [
              "array([[2.0038351e-02, 1.1098470e-02, 8.8908412e-02, 7.3537529e-07,\n",
              "        1.8730076e-01, 6.9265324e-01]], dtype=float32)"
            ]
          },
          "metadata": {},
          "execution_count": 29
        }
      ]
    },
    {
      "cell_type": "code",
      "source": [
        "a=np.argmax(model.predict(img_data), axis=1)"
      ],
      "metadata": {
        "id": "_be7RbQPZYHA"
      },
      "execution_count": 30,
      "outputs": []
    },
    {
      "cell_type": "code",
      "source": [
        "a==1"
      ],
      "metadata": {
        "id": "oKiDR7_3ZbYB",
        "colab": {
          "base_uri": "https://localhost:8080/",
          "height": 0
        },
        "outputId": "7063e77f-b81b-4bf1-e92b-5741da2fb535"
      },
      "execution_count": 31,
      "outputs": [
        {
          "output_type": "execute_result",
          "data": {
            "text/plain": [
              "array([False])"
            ]
          },
          "metadata": {},
          "execution_count": 31
        }
      ]
    },
    {
      "cell_type": "code",
      "source": [
        "import tensorflow as tf"
      ],
      "metadata": {
        "id": "PHWvv8M1ZfKL"
      },
      "execution_count": 32,
      "outputs": []
    },
    {
      "cell_type": "code",
      "source": [
        "tf.__version__"
      ],
      "metadata": {
        "id": "oAY_f-4cZiNK",
        "colab": {
          "base_uri": "https://localhost:8080/",
          "height": 35
        },
        "outputId": "b0f54dd2-b965-457d-c1c5-06e974dc586d"
      },
      "execution_count": 33,
      "outputs": [
        {
          "output_type": "execute_result",
          "data": {
            "application/vnd.google.colaboratory.intrinsic+json": {
              "type": "string"
            },
            "text/plain": [
              "'2.7.0'"
            ]
          },
          "metadata": {},
          "execution_count": 33
        }
      ]
    },
    {
      "cell_type": "code",
      "source": [
        "pip install torchvision"
      ],
      "metadata": {
        "colab": {
          "base_uri": "https://localhost:8080/",
          "height": 0
        },
        "id": "sS5gJJmIN65J",
        "outputId": "6903bf02-b025-4442-ef72-b5f4dd0ffcd0"
      },
      "execution_count": 34,
      "outputs": [
        {
          "output_type": "stream",
          "name": "stdout",
          "text": [
            "Requirement already satisfied: torchvision in /usr/local/lib/python3.7/dist-packages (0.11.1+cu111)\n",
            "Requirement already satisfied: numpy in /usr/local/lib/python3.7/dist-packages (from torchvision) (1.19.5)\n",
            "Requirement already satisfied: torch==1.10.0 in /usr/local/lib/python3.7/dist-packages (from torchvision) (1.10.0+cu111)\n",
            "Requirement already satisfied: pillow!=8.3.0,>=5.3.0 in /usr/local/lib/python3.7/dist-packages (from torchvision) (7.1.2)\n",
            "Requirement already satisfied: typing-extensions in /usr/local/lib/python3.7/dist-packages (from torch==1.10.0->torchvision) (3.10.0.2)\n"
          ]
        }
      ]
    },
    {
      "cell_type": "code",
      "source": [
        "import matplotlib.pyplot as plt"
      ],
      "metadata": {
        "id": "zQvG7d8rMBNl"
      },
      "execution_count": 35,
      "outputs": []
    },
    {
      "cell_type": "code",
      "source": [
        "# plot the loss\n",
        "plt.plot(r.history['loss'], label='train loss')\n",
        "plt.plot(r.history['val_loss'], label='val loss')\n",
        "plt.legend()\n",
        "plt.show()\n",
        "plt.savefig('LossVal_loss')\n",
        "\n",
        "# plot the accuracy\n",
        "plt.plot(r.history['accuracy'], label='train acc')\n",
        "plt.plot(r.history['val_accuracy'], label='val acc')\n",
        "plt.legend()\n",
        "plt.show()\n",
        "plt.savefig('AccVal_acc')"
      ],
      "metadata": {
        "colab": {
          "base_uri": "https://localhost:8080/",
          "height": 530
        },
        "id": "tWg71RSZMGAk",
        "outputId": "7bc1ef31-8829-42da-8cab-ed5e12cbf32e"
      },
      "execution_count": 36,
      "outputs": [
        {
          "output_type": "display_data",
          "data": {
            "image/png": "[encoded data removed]",
            "text/plain": [
              "<Figure size 432x288 with 1 Axes>"
            ]
          },
          "metadata": {
            "needs_background": "light"
          }
        },
        {
          "output_type": "display_data",
          "data": {
            "image/png": "[encoded data removed]",
            "text/plain": [
              "<Figure size 432x288 with 1 Axes>"
            ]
          },
          "metadata": {
            "needs_background": "light"
          }
        },
        {
          "output_type": "display_data",
          "data": {
            "text/plain": [
              "<Figure size 432x288 with 0 Axes>"
            ]
          },
          "metadata": {}
        }
      ]
    }
  ],
  "metadata": {
    "colab": {
      "name": "Prediction.ipynb",
      "provenance": [],
      "mount_file_id": "1Vl_ANndZon8dtmiJRXJqlgjykbEr892t",
      "authorship_tag": "ABX9TyP7pOCjAAQzTaYgXwacSUAG",
      "include_colab_link": true
    },
    "kernelspec": {
      "display_name": "Python 3",
      "name": "python3"
    },
    "language_info": {
      "name": "python"
    }
  },
  "nbformat": 4,
  "nbformat_minor": 0
}