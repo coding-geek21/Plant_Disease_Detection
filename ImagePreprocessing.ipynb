{
 "cells": [
  {
   "cell_type": "code",
   "execution_count": 8,
   "id": "dec0488e",
   "metadata": {},
   "outputs": [
    {
     "name": "stderr",
     "output_type": "stream",
     "text": [
      "Matplotlib is building the font cache; this may take a moment.\n"
     ]
    }
   ],
   "source": [
    "import tensorflow as tf\n",
    "from tensorflow.keras import models,layers\n",
    "import matplotlib.pyplot as plt"
   ]
  },
  {
   "cell_type": "code",
   "execution_count": 9,
   "id": "1d538719",
   "metadata": {},
   "outputs": [],
   "source": [
    "IMAGE_SIZE = 224"
   ]
  },
  {
   "cell_type": "code",
   "execution_count": 10,
   "id": "5d646879",
   "metadata": {
    "collapsed": true
   },
   "outputs": [
    {
     "name": "stdout",
     "output_type": "stream",
     "text": [
      "Found 20638 files belonging to 15 classes.\n"
     ]
    }
   ],
   "source": [
    "# Image Resizing\n",
    "dataset = tf.keras.preprocessing.image_dataset_from_directory(\n",
    "  \"PlantVillage\",\n",
    "image_size = (IMAGE_SIZE,IMAGE_SIZE)\n",
    ")"
   ]
  },
  {
   "cell_type": "code",
   "execution_count": 1,
   "id": "c2d0abc8",
   "metadata": {},
   "outputs": [],
   "source": [
    "# Convert from RGB to Grayscale Images\n",
    "import cv2\n",
    "import glob\n",
    "import os\n",
    "\n",
    "os.mkdir('C:/Users/haris/RGB/Grayscale_Images')\n",
    "images_path = glob.glob('C:/Users/haris/RGB/*.jpg')\n",
    "\n",
    "i = 0\n",
    "for image in images_path:\n",
    "    img = cv2.imread(image)\n",
    "    gray_images = cv2.cvtColor(img, cv2.COLOR_BGR2GRAY)\n",
    "    \n",
    "    cv2.imshow('Grayscale Images',gray_images)\n",
    "    cv2.imwrite('C:/Users/haris/RGB/Grayscale_Images/image%02i.jpg' %i, gray_images)\n",
    "    i += 1\n",
    "  \n",
    "    cv2.destroyAllWindows\n",
    "\n"
   ]
  },
  {
   "cell_type": "code",
   "execution_count": null,
   "id": "59276a53",
   "metadata": {},
   "outputs": [],
   "source": [
    "# Convert from Grayscale to Binary Images\n",
    "import cv2\n",
    "import glob\n",
    "import os\n",
    "\n",
    "os.mkdir('C:/Users/haris/RGB/Binary_Images')\n",
    "images_path = glob.glob('C:/Users/haris/RGB/Grayscale_Images/*.jpg')\n",
    "\n",
    "i = 0\n",
    "for image in images_path:\n",
    "    img = cv2.imread(image)\n",
    "    ret, binary_images = cv2.threshold(img, 130,257,cv2.THRESH_BINARY)\n",
    "    cv2.imshow('Binary Images',binary_images)\n",
    "    cv2.imwrite('C:/Users/haris/RGB/Binary_Images/image%02i.jpg' %i, binary_images)\n",
    "    i += 1\n",
    "  \n",
    "    cv2.destroyAllWindows"
   ]
  },
  {
   "cell_type": "code",
   "execution_count": null,
   "id": "2c570f68",
   "metadata": {},
   "outputs": [],
   "source": [
    "# Convert from Grayscale to Filtered Images(removing noises)\n",
    "import cv2\n",
    "import numpy as np\n",
    "import os\n",
    "import glob\n",
    "from matplotlib import pyplot as plt\n",
    "\n",
    "os.mkdir('C:/Users/haris/RGB/Filtered_Images')\n",
    "images_path = glob.glob('C:/Users/haris/RGB/Grayscale_Images/*.jpg')\n",
    "\n",
    "i = 0\n",
    "for image in images_path:\n",
    "    img = cv2.imread(image)\n",
    "    sliding_window_size_x = 5\n",
    "    sliding_window_size_y = 5\n",
    "    mean_filter_kernel = np.ones((sliding_window_size_x,sliding_window_size_y),np.float32)/(sliding_window_size_x*sliding_window_size_y)\n",
    "    filtered_image = cv2.filter2D(img,-1,mean_filter_kernel)\n",
    "   \n",
    "    cv2.imwrite('C:/Users/haris/RGB/Filtered_Images/image%02i.jpg' %i, filtered_image)\n",
    "    i += 1\n",
    "  \n",
    "    cv2.destroyAllWindows"
   ]
  }
 ],
 "metadata": {
  "kernelspec": {
   "display_name": "Python 3",
   "language": "python",
   "name": "python3"
  },
  "language_info": {
   "codemirror_mode": {
    "name": "ipython",
    "version": 3
   },
   "file_extension": ".py",
   "mimetype": "text/x-python",
   "name": "python",
   "nbconvert_exporter": "python",
   "pygments_lexer": "ipython3",
   "version": "3.8.8"
  }
 },
 "nbformat": 4,
 "nbformat_minor": 5
}
