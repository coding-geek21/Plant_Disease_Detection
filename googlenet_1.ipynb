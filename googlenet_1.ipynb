{
  "nbformat": 4,
  "nbformat_minor": 0,
  "metadata": {
    "colab": {
      "name": "googlenet.ipynb",
      "provenance": [],
      "collapsed_sections": [],
      "mount_file_id": "1fp0ilq-BPYlwGV1d6LfmWGCeZkrEGIRs",
      "authorship_tag": "ABX9TyP4N8PYnEoDSHD9SoyXCig1",
      "include_colab_link": true
    },
    "kernelspec": {
      "name": "python3",
      "display_name": "Python 3"
    },
    "language_info": {
      "name": "python"
    }
  },
  "cells": [
    {
      "cell_type": "markdown",
      "metadata": {
        "id": "view-in-github",
        "colab_type": "text"
      },
      "source": [
        "<a href=\"https://colab.research.google.com/github/pradhicsha6/Plant_Disease_Detection/blob/main/googlenet_1.ipynb\" target=\"_parent\"><img src=\"https://colab.research.google.com/assets/colab-badge.svg\" alt=\"Open In Colab\"/></a>"
      ]
    },
    {
      "cell_type": "code",
      "metadata": {
        "id": "uu4Iaym0Qu-D"
      },
      "source": [
        "from tensorflow.keras.layers import Input, Lambda, Dense, Flatten\n",
        "from tensorflow.keras.models import Model\n",
        "from tensorflow.keras.applications.inception_v3 import InceptionV3\n",
        "#from keras.applications.vgg16 import VGG16\n",
        "from tensorflow.keras.applications.inception_v3 import preprocess_input\n",
        "from tensorflow.keras.preprocessing import image\n",
        "from tensorflow.keras.preprocessing.image import ImageDataGenerator,load_img\n",
        "from tensorflow.keras.models import Sequential\n",
        "import numpy as np\n",
        "from glob import glob\n",
        "#import matplotlib.pyplot as plt"
      ],
      "execution_count": null,
      "outputs": []
    },
    {
      "cell_type": "code",
      "metadata": {
        "id": "T3LQGDSnRyHe"
      },
      "source": [
        "IMAGE_SIZE = [224,224]\n",
        "\n",
        "train_path = '/content/drive/MyDrive/summer project/data/train'\n",
        "valid_path = '/content/drive/MyDrive/summer project/data/test'"
      ],
      "execution_count": null,
      "outputs": []
    },
    {
      "cell_type": "code",
      "metadata": {
        "id": "4w8BNgU-SAZI",
        "colab": {
          "base_uri": "https://localhost:8080/"
        },
        "outputId": "babbeb58-369d-4b29-c9b9-a4800a0cc41a"
      },
      "source": [
        "inception = InceptionV3(input_shape=IMAGE_SIZE + [3], weights='imagenet', include_top=False)"
      ],
      "execution_count": null,
      "outputs": [
        {
          "output_type": "stream",
          "name": "stdout",
          "text": [
            "Downloading data from https://storage.googleapis.com/tensorflow/keras-applications/inception_v3/inception_v3_weights_tf_dim_ordering_tf_kernels_notop.h5\n",
            "87916544/87910968 [==============================] - 1s 0us/step\n",
            "87924736/87910968 [==============================] - 1s 0us/step\n"
          ]
        }
      ]
    },
    {
      "cell_type": "code",
      "metadata": {
        "id": "JyEMOWcjSGa8"
      },
      "source": [
        "for layer in inception.layers:\n",
        "    layer.trainable = False"
      ],
      "execution_count": null,
      "outputs": []
    },
    {
      "cell_type": "code",
      "metadata": {
        "id": "qxLUASkDSL5m"
      },
      "source": [
        "folders = glob('/content/drive/MyDrive/summer project/data/train/*')"
      ],
      "execution_count": null,
      "outputs": []
    },
    {
      "cell_type": "code",
      "metadata": {
        "id": "swFu25xVSUlu"
      },
      "source": [
        "x = Flatten()(inception.output)"
      ],
      "execution_count": null,
      "outputs": []
    },
    {
      "cell_type": "code",
      "metadata": {
        "id": "nTCknvDBSYEG"
      },
      "source": [
        "prediction = Dense(len(folders), activation='softmax')(x)\n",
        "\n",
        "# create a model object\n",
        "model = Model(inputs=inception.input, outputs=prediction)"
      ],
      "execution_count": null,
      "outputs": []
    },
    {
      "cell_type": "code",
      "metadata": {
        "id": "RJs4aNnzScOM"
      },
      "source": [
        "model.compile(\n",
        "  loss='categorical_crossentropy',\n",
        "  optimizer='adam',\n",
        "  metrics=['accuracy']\n",
        ")"
      ],
      "execution_count": null,
      "outputs": []
    },
    {
      "cell_type": "code",
      "metadata": {
        "id": "cqN08wDzSmMO"
      },
      "source": [
        "from tensorflow.keras.preprocessing.image import ImageDataGenerator\n",
        "\n",
        "train_datagen = ImageDataGenerator(rescale = 1./255,\n",
        "                                   shear_range = 0.2,\n",
        "                                   zoom_range = 0.2,\n",
        "                                   horizontal_flip = True)\n",
        "\n",
        "test_datagen = ImageDataGenerator(rescale = 1./255)"
      ],
      "execution_count": null,
      "outputs": []
    },
    {
      "cell_type": "code",
      "metadata": {
        "colab": {
          "base_uri": "https://localhost:8080/"
        },
        "id": "c5YlAo3TSrib",
        "outputId": "aa94ae8c-fff7-45a2-da2f-75b69d1c1ca1"
      },
      "source": [
        "training_set = train_datagen.flow_from_directory('/content/drive/MyDrive/summer project/data/train',\n",
        "                                                 target_size = (224, 224),\n",
        "                                                 batch_size = 32,\n",
        "                                                 class_mode = 'categorical')"
      ],
      "execution_count": null,
      "outputs": [
        {
          "output_type": "stream",
          "name": "stdout",
          "text": [
            "Found 1951 images belonging to 4 classes.\n"
          ]
        }
      ]
    },
    {
      "cell_type": "code",
      "metadata": {
        "colab": {
          "base_uri": "https://localhost:8080/"
        },
        "id": "Cttt6cMjS0qA",
        "outputId": "e2125be5-c744-4699-c8b1-e66579c70247"
      },
      "source": [
        "test_set = test_datagen.flow_from_directory('/content/drive/MyDrive/summer project/data/test',\n",
        "                                            target_size = (224, 224),\n",
        "                                            batch_size = 32,\n",
        "                                            class_mode = 'categorical')"
      ],
      "execution_count": null,
      "outputs": [
        {
          "output_type": "stream",
          "name": "stdout",
          "text": [
            "Found 18 images belonging to 4 classes.\n"
          ]
        }
      ]
    },
    {
      "cell_type": "code",
      "metadata": {
        "colab": {
          "base_uri": "https://localhost:8080/"
        },
        "id": "M-OGnkhvTPfh",
        "outputId": "d9a9947a-9fc8-4635-ebaf-69b73e6ecf5c"
      },
      "source": [
        "r = model.fit_generator(\n",
        "  training_set,\n",
        "  validation_data=test_set,\n",
        "  epochs=20,\n",
        "  steps_per_epoch=len(training_set),\n",
        "  validation_steps=len(test_set)\n",
        ")"
      ],
      "execution_count": null,
      "outputs": [
        {
          "metadata": {
            "tags": null
          },
          "name": "stderr",
          "output_type": "stream",
          "text": [
            "/usr/local/lib/python3.7/dist-packages/keras/engine/training.py:1972: UserWarning: `Model.fit_generator` is deprecated and will be removed in a future version. Please use `Model.fit`, which supports generators.\n",
            "  warnings.warn('`Model.fit_generator` is deprecated and '\n"
          ]
        },
        {
          "output_type": "stream",
          "name": "stdout",
          "text": [
            "Epoch 1/20\n",
            "61/61 [==============================] - 581s 9s/step - loss: 3.4369 - accuracy: 0.7130 - val_loss: 0.1549 - val_accuracy: 0.9444\n",
            "Epoch 2/20\n",
            "61/61 [==============================] - 231s 4s/step - loss: 0.4337 - accuracy: 0.9118 - val_loss: 0.3543 - val_accuracy: 0.8889\n",
            "Epoch 3/20\n",
            "61/61 [==============================] - 230s 4s/step - loss: 0.7090 - accuracy: 0.8816 - val_loss: 0.0339 - val_accuracy: 1.0000\n",
            "Epoch 4/20\n",
            "61/61 [==============================] - 230s 4s/step - loss: 0.4127 - accuracy: 0.9211 - val_loss: 1.0799e-04 - val_accuracy: 1.0000\n",
            "Epoch 5/20\n",
            "61/61 [==============================] - 230s 4s/step - loss: 0.5770 - accuracy: 0.9175 - val_loss: 1.0323e-04 - val_accuracy: 1.0000\n",
            "Epoch 6/20\n",
            "61/61 [==============================] - 230s 4s/step - loss: 0.5716 - accuracy: 0.9144 - val_loss: 0.2461 - val_accuracy: 0.9444\n",
            "Epoch 7/20\n",
            "61/61 [==============================] - 230s 4s/step - loss: 0.4371 - accuracy: 0.9359 - val_loss: 2.2522e-04 - val_accuracy: 1.0000\n",
            "Epoch 8/20\n",
            "61/61 [==============================] - 230s 4s/step - loss: 0.3945 - accuracy: 0.9493 - val_loss: 0.2538 - val_accuracy: 0.9444\n",
            "Epoch 9/20\n",
            "61/61 [==============================] - 231s 4s/step - loss: 0.3881 - accuracy: 0.9416 - val_loss: 0.0427 - val_accuracy: 1.0000\n",
            "Epoch 10/20\n",
            "61/61 [==============================] - 230s 4s/step - loss: 0.3169 - accuracy: 0.9528 - val_loss: 1.6569e-05 - val_accuracy: 1.0000\n",
            "Epoch 11/20\n",
            "61/61 [==============================] - 231s 4s/step - loss: 0.3555 - accuracy: 0.9498 - val_loss: 3.9313e-05 - val_accuracy: 1.0000\n",
            "Epoch 12/20\n",
            "61/61 [==============================] - 231s 4s/step - loss: 0.3656 - accuracy: 0.9462 - val_loss: 2.1013e-04 - val_accuracy: 1.0000\n",
            "Epoch 13/20\n",
            "61/61 [==============================] - 230s 4s/step - loss: 0.3386 - accuracy: 0.9554 - val_loss: 0.3013 - val_accuracy: 0.9444\n",
            "Epoch 14/20\n",
            "61/61 [==============================] - 231s 4s/step - loss: 0.3499 - accuracy: 0.9559 - val_loss: 0.7959 - val_accuracy: 0.9444\n",
            "Epoch 15/20\n",
            "61/61 [==============================] - 231s 4s/step - loss: 0.7304 - accuracy: 0.9211 - val_loss: 0.0018 - val_accuracy: 1.0000\n",
            "Epoch 16/20\n",
            "61/61 [==============================] - 231s 4s/step - loss: 0.6281 - accuracy: 0.9359 - val_loss: 0.5846 - val_accuracy: 0.9444\n",
            "Epoch 17/20\n",
            "61/61 [==============================] - 230s 4s/step - loss: 0.4484 - accuracy: 0.9518 - val_loss: 5.1657e-07 - val_accuracy: 1.0000\n",
            "Epoch 18/20\n",
            "61/61 [==============================] - 231s 4s/step - loss: 0.2891 - accuracy: 0.9672 - val_loss: 0.2399 - val_accuracy: 0.9444\n",
            "Epoch 19/20\n",
            "61/61 [==============================] - 234s 4s/step - loss: 0.2875 - accuracy: 0.9636 - val_loss: 5.4900e-06 - val_accuracy: 1.0000\n",
            "Epoch 20/20\n",
            "58/61 [===========================>..] - ETA: 11s - loss: 0.2489 - accuracy: 0.9698"
          ]
        }
      ]
    },
    {
      "cell_type": "code",
      "metadata": {
        "id": "Zz0xAh9zHFMx",
        "colab": {
          "base_uri": "https://localhost:8080/"
        },
        "outputId": "ef6e7104-7215-48d1-b1df-19a7d40ba544"
      },
      "source": [
        "pip install torchvision "
      ],
      "execution_count": null,
      "outputs": [
        {
          "output_type": "stream",
          "name": "stdout",
          "text": [
            "Requirement already satisfied: torchvision in /usr/local/lib/python3.7/dist-packages (0.10.0+cu111)\n",
            "Requirement already satisfied: pillow>=5.3.0 in /usr/local/lib/python3.7/dist-packages (from torchvision) (7.1.2)\n",
            "Requirement already satisfied: numpy in /usr/local/lib/python3.7/dist-packages (from torchvision) (1.19.5)\n",
            "Requirement already satisfied: torch==1.9.0 in /usr/local/lib/python3.7/dist-packages (from torchvision) (1.9.0+cu111)\n",
            "Requirement already satisfied: typing-extensions in /usr/local/lib/python3.7/dist-packages (from torch==1.9.0->torchvision) (3.7.4.3)\n"
          ]
        }
      ]
    },
    {
      "cell_type": "code",
      "metadata": {
        "id": "0sk9vCXguYop"
      },
      "source": [
        "import matplotlib.pyplot as plt"
      ],
      "execution_count": null,
      "outputs": []
    },
    {
      "cell_type": "code",
      "metadata": {
        "id": "DCbIUGFwuaXD",
        "colab": {
          "base_uri": "https://localhost:8080/",
          "height": 530
        },
        "outputId": "2284e197-83fa-4153-98d6-b7d58af49b24"
      },
      "source": [
        "# plot the loss\n",
        "plt.plot(r.history['loss'], label='train loss')\n",
        "plt.plot(r.history['val_loss'], label='val loss')\n",
        "plt.legend()\n",
        "plt.show()\n",
        "plt.savefig('LossVal_loss')\n",
        "\n",
        "# plot the accuracy\n",
        "plt.plot(r.history['accuracy'], label='train acc')\n",
        "plt.plot(r.history['val_accuracy'], label='val acc')\n",
        "plt.legend()\n",
        "plt.show()\n",
        "plt.savefig('AccVal_acc')"
      ],
      "execution_count": null,
      "outputs": [
        {
          "output_type": "display_data",
          "data": {
            "image/png": "[encoded data removed]",
            "text/plain": [
              "<Figure size 432x288 with 1 Axes>"
            ]
          },
          "metadata": {
            "needs_background": "light"
          }
        },
        {
          "output_type": "display_data",
          "data": {
            "image/png": "[encoded data removed]",
            "text/plain": [
              "<Figure size 432x288 with 1 Axes>"
            ]
          },
          "metadata": {
            "needs_background": "light"
          }
        },
        {
          "output_type": "display_data",
          "data": {
            "text/plain": [
              "<Figure size 432x288 with 0 Axes>"
            ]
          },
          "metadata": {}
        }
      ]
    },
    {
      "cell_type": "code",
      "metadata": {
        "id": "xCV59EeCuvPh"
      },
      "source": [
        "from tensorflow.keras.models import load_model\n",
        "!mkdir -p saved_model\n",
        "model.save('saved_model/Model_Inception.h5') \n"
      ],
      "execution_count": null,
      "outputs": []
    },
    {
      "cell_type": "code",
      "metadata": {
        "id": "VEPGFqYNVs5r"
      },
      "source": [
        "y_pred = model.predict(test_set)\n",
        "y_pred"
      ],
      "execution_count": null,
      "outputs": []
    },
    {
      "cell_type": "code",
      "metadata": {
        "id": "hGh-lUXSVyYU"
      },
      "source": [
        "import numpy as np\n",
        "y_pred = np.argmax(y_pred, axis=1)"
      ],
      "execution_count": null,
      "outputs": []
    },
    {
      "cell_type": "code",
      "metadata": {
        "id": "SrUJWNmaV1XD"
      },
      "source": [
        "from tensorflow.keras.models import load_model\n",
        "from tensorflow.keras.preprocessing import image"
      ],
      "execution_count": 3,
      "outputs": []
    },
    {
      "cell_type": "code",
      "metadata": {
        "id": "5JqZ2z33WFaI"
      },
      "source": [
        "model=load_model('saved_model/Model_Inception.h5')"
      ],
      "execution_count": null,
      "outputs": []
    },
    {
      "cell_type": "code",
      "metadata": {
        "id": "isuOU0R-WL_X"
      },
      "source": [
        "img_data"
      ],
      "execution_count": null,
      "outputs": []
    },
    {
      "cell_type": "code",
      "metadata": {
        "id": "NfqfheVdWO53"
      },
      "source": [
        "mg=image.load_img('/content/drive/MyDrive/summer project/data/val/fresh cotton plant/dsd (140)_iaip.jpg',target_size=(224,224))"
      ],
      "execution_count": null,
      "outputs": []
    },
    {
      "cell_type": "code",
      "metadata": {
        "id": "jq9HpokCW88x"
      },
      "source": [
        "x=image.img_to_array(img)\n",
        "x"
      ],
      "execution_count": null,
      "outputs": []
    },
    {
      "cell_type": "code",
      "metadata": {
        "id": "x_XzvMKXXAXW"
      },
      "source": [
        "x.shape"
      ],
      "execution_count": null,
      "outputs": []
    },
    {
      "cell_type": "code",
      "metadata": {
        "id": "5gOyketUXD6y"
      },
      "source": [
        "x=x/255"
      ],
      "execution_count": null,
      "outputs": []
    },
    {
      "cell_type": "code",
      "metadata": {
        "id": "2bjyogg4XGqw"
      },
      "source": [
        "import numpy as np\n",
        "x=np.expand_dims(x,axis=0)\n",
        "img_data=preprocess_input(x)\n",
        "img_data.shape"
      ],
      "execution_count": null,
      "outputs": []
    },
    {
      "cell_type": "code",
      "metadata": {
        "id": "HUxpnxO4XJcO"
      },
      "source": [
        "model.predict(img_data)"
      ],
      "execution_count": null,
      "outputs": []
    },
    {
      "cell_type": "code",
      "metadata": {
        "id": "VxxL0NZiXNNX"
      },
      "source": [
        "a=np.argmax(model.predict(img_data), axis=1)"
      ],
      "execution_count": null,
      "outputs": []
    },
    {
      "cell_type": "code",
      "metadata": {
        "id": "lZImm6GQXP9f"
      },
      "source": [
        "a==1"
      ],
      "execution_count": null,
      "outputs": []
    },
    {
      "cell_type": "code",
      "metadata": {
        "id": "6O6ZC9ogXSgs"
      },
      "source": [
        "import tensorflow as tf"
      ],
      "execution_count": 5,
      "outputs": []
    }
  ]
}