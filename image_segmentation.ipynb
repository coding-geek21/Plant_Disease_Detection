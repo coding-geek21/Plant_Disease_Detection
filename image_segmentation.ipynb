{
  "nbformat": 4,
  "nbformat_minor": 0,
  "metadata": {
    "kernelspec": {
      "language": "python",
      "display_name": "Python 3",
      "name": "python3"
    },
    "language_info": {
      "pygments_lexer": "ipython3",
      "nbconvert_exporter": "python",
      "version": "3.6.4",
      "file_extension": ".py",
      "codemirror_mode": {
        "name": "ipython",
        "version": 3
      },
      "name": "python",
      "mimetype": "text/x-python"
    },
    "colab": {
      "name": "image-segmentation.ipynb",
      "provenance": []
    }
  },
  "cells": [
    {
      "cell_type": "markdown",
      "metadata": {
        "_uuid": "1020827e241ac87ffdf8e0f8762a6885bdc28fbc",
        "id": "D4HlhSCNGUNJ"
      },
      "source": [
        "Import neccessary packages"
      ]
    },
    {
      "cell_type": "code",
      "metadata": {
        "_uuid": "8f2839f25d086af736a60e9eeb907d3b93b6e0e5",
        "_cell_guid": "b1076dfc-b9ad-4769-8c92-a6c4dae69d19",
        "trusted": true,
        "id": "Q7LYcW3wGUNM"
      },
      "source": [
        "import numpy as np\n",
        "import pickle\n",
        "import cv2\n",
        "import argparse\n",
        "import os\n",
        "import glob\n",
        "import tqdm\n",
        "import random\n",
        "from socket import socket\n",
        "from os import listdir\n",
        "from sklearn.preprocessing import LabelBinarizer\n",
        "from keras.preprocessing.image import ImageDataGenerator\n",
        "from keras.optimizers import Adam\n",
        "from PIL import Image\n",
        "from PIL import ImageEnhance\n",
        "from keras.preprocessing import image\n",
        "from keras.preprocessing.image import img_to_array\n",
        "from sklearn.preprocessing import MultiLabelBinarizer\n",
        "import matplotlib.pyplot as plt\n"
      ],
      "execution_count": null,
      "outputs": []
    },
    {
      "cell_type": "code",
      "metadata": {
        "trusted": true,
        "id": "cFTxlIEAGUNN"
      },
      "source": [
        "path = \"../input/plantdisease\"\n",
        "path = os.path.join(path,\"PlantVillage\",\"training\")"
      ],
      "execution_count": null,
      "outputs": []
    },
    {
      "cell_type": "code",
      "metadata": {
        "_uuid": "7c3354a78e21a1a62ad0c4689d0ab3238fb760d4",
        "trusted": true,
        "id": "7OgN8yhJGUNO"
      },
      "source": [
        "default_image_size = tuple((224, 224))\n",
        "image_size = 0\n",
        "directory_root = '../input/plantvillage/'\n",
        "width=224\n",
        "height=224\n",
        "depth=3"
      ],
      "execution_count": null,
      "outputs": []
    },
    {
      "cell_type": "markdown",
      "metadata": {
        "_uuid": "2bf7ac0a0b805946f844a48e55d5281403e53f57",
        "id": "dKEpKUydGUNO"
      },
      "source": [
        "Function to convert images to array"
      ]
    },
    {
      "cell_type": "code",
      "metadata": {
        "_uuid": "c9c3e60b13ace6c8f3e54336e12f9970fde438a3",
        "trusted": true,
        "id": "g-nRPRxYGUNO"
      },
      "source": [
        "def convert_image_to_array(image_dir):\n",
        "    try:\n",
        "        image = cv2.imread(image_dir)\n",
        "        if image is not None :\n",
        "            image = cv2.resize(image, default_image_size)   \n",
        "            return img_to_array(image)\n",
        "        else :\n",
        "            return np.array([])\n",
        "    except Exception as e:\n",
        "        print(f\"Error : {e}\")\n",
        "        return None"
      ],
      "execution_count": null,
      "outputs": []
    },
    {
      "cell_type": "markdown",
      "metadata": {
        "_uuid": "24d42b87fad54a9556f78357ce673cc5152468c1",
        "id": "htDKKHXZGUNP"
      },
      "source": [
        "Fetch images from directory"
      ]
    },
    {
      "cell_type": "code",
      "metadata": {
        "_uuid": "bb8d4c343314028f52ae3c3a840478a834a16c95",
        "trusted": true,
        "id": "2r0pPnQwGUNP"
      },
      "source": [
        "image_list, label_list = [], []\n",
        "try:\n",
        "    print(\"[INFO] Loading images ...\")\n",
        "    root_dir = listdir(directory_root)\n",
        "    for directory in root_dir :\n",
        "        # remove .DS_Store from list\n",
        "        if directory == \".DS_Store\" :\n",
        "            root_dir.remove(directory)\n",
        "\n",
        "    for plant_folder in root_dir :\n",
        "        plant_disease_folder_list = listdir(f\"{directory_root}/{plant_folder}\")\n",
        "        \n",
        "        for disease_folder in plant_disease_folder_list :\n",
        "            # remove .DS_Store from list\n",
        "            if disease_folder == \".DS_Store\" :\n",
        "                plant_disease_folder_list.remove(disease_folder)\n",
        "\n",
        "        for plant_disease_folder in plant_disease_folder_list:\n",
        "            print(f\"[INFO] Processing {plant_disease_folder} ...\")\n",
        "            plant_disease_image_list = listdir(f\"{directory_root}/{plant_folder}/{plant_disease_folder}/\")\n",
        "                \n",
        "            for single_plant_disease_image in plant_disease_image_list :\n",
        "                if single_plant_disease_image == \".DS_Store\" :\n",
        "                    plant_disease_image_list.remove(single_plant_disease_image)\n",
        "\n",
        "            for image in plant_disease_image_list[:200]:\n",
        "                image_directory = f\"{directory_root}/{plant_folder}/{plant_disease_folder}/{image}\"\n",
        "                if image_directory.endswith(\".jpg\") == True or image_directory.endswith(\".JPG\") == True:\n",
        "                    image_list.append(convert_image_to_array(image_directory))\n",
        "                    label_list.append(plant_disease_folder)\n",
        "    print(\"[INFO] Image loading completed\")  \n",
        "except Exception as e:\n",
        "    print(f\"Error : {e}\")"
      ],
      "execution_count": null,
      "outputs": []
    },
    {
      "cell_type": "markdown",
      "metadata": {
        "_uuid": "35c4b76d33e0263523e479657580104532f81d6e",
        "id": "kLSfg2JAGUNQ"
      },
      "source": [
        "Get Size of Processed Image"
      ]
    },
    {
      "cell_type": "code",
      "metadata": {
        "_uuid": "6ee1ad9c422f112ec2862699b5c0f68b8d658123",
        "trusted": true,
        "id": "FKmpCmBaGUNQ"
      },
      "source": [
        "image_size = len(image_list)\n",
        "print(image_size)"
      ],
      "execution_count": null,
      "outputs": []
    },
    {
      "cell_type": "markdown",
      "metadata": {
        "_uuid": "905b41b226f3fd82a88e67821eb42a07f24b31f7",
        "id": "mVZ3mFVXGUNR"
      },
      "source": [
        "Transform Image Labels uisng [Scikit Learn](http://scikit-learn.org/)'s LabelBinarizer"
      ]
    },
    {
      "cell_type": "code",
      "metadata": {
        "_uuid": "904ff893fe14f5060dd9e7be2ccf96ec793597e5",
        "trusted": true,
        "id": "lLhIJKcRGUNR"
      },
      "source": [
        "label_binarizer = LabelBinarizer()\n",
        "image_labels = label_binarizer.fit_transform(label_list)\n",
        "pickle.dump(label_binarizer,open('label_transform.pkl', 'wb'))\n",
        "n_classes = len(label_binarizer.classes_)"
      ],
      "execution_count": null,
      "outputs": []
    },
    {
      "cell_type": "markdown",
      "metadata": {
        "_uuid": "f860c29a1d714f06d25e6a0c5bca94739e5d24cc",
        "id": "3UaBEyiIGUNR"
      },
      "source": [
        "#Printing the classes"
      ]
    },
    {
      "cell_type": "code",
      "metadata": {
        "_uuid": "0f876397c40c3c8aa09772a92fd60481fc9ba268",
        "trusted": true,
        "id": "KeC8ryL6GUNS"
      },
      "source": [
        "print(label_binarizer.classes_)"
      ],
      "execution_count": null,
      "outputs": []
    },
    {
      "cell_type": "code",
      "metadata": {
        "_uuid": "6cd9c977b3d164a5570a0c24fdd8624adb9d56b8",
        "trusted": true,
        "id": "WsmcPmHJGUNS"
      },
      "source": [
        "np_image_list = np.array(image_list, dtype=np.int16)\n",
        "imagess=np.array(image_list, dtype=np.int16)\n"
      ],
      "execution_count": null,
      "outputs": []
    },
    {
      "cell_type": "code",
      "metadata": {
        "trusted": true,
        "id": "77RLN5faGUNS"
      },
      "source": [
        "plt.figure(figsize=(9,9))\n",
        "for i, img in enumerate(np_image_list[0:25]):\n",
        "    plt.subplot(5,5,i+1)\n",
        "    plt.xticks([])\n",
        "    plt.yticks([])\n",
        "    plt.grid(False)\n",
        "    plt.imshow(img)\n",
        "    plt.suptitle(\"Original Dataset\", fontsize=25)\n",
        "plt.show()"
      ],
      "execution_count": null,
      "outputs": []
    },
    {
      "cell_type": "code",
      "metadata": {
        "trusted": true,
        "id": "Tflmw8lpGUNS"
      },
      "source": [
        "gray = np.array([cv2.cvtColor(img,cv2.COLOR_RGB2GRAY) for img in tqdm(img_arr)])\n",
        "gray.shape\n",
        "plt.figure(figsize=(9,9))\n",
        "for i, img in enumerate(gray[0:25]):\n",
        "    plt.subplot(5,5,i+1)\n",
        "    plt.xticks([])\n",
        "    plt.yticks([])\n",
        "    plt.grid(False)\n",
        "    plt.imshow(cv2.cvtColor(img, cv2.COLOR_GRAY2RGB))\n",
        "    plt.suptitle(\"Grayscaled Dataset\", fontsize=20)\n",
        "plt.show()"
      ],
      "execution_count": null,
      "outputs": []
    },
    {
      "cell_type": "code",
      "metadata": {
        "id": "yBsZB2W2GUNS"
      },
      "source": [
        "thresh = [cv2.threshold(img, np.mean(img), 255, cv2.THRESH_BINARY_INV+cv2.THRESH_OTSU)[1] for img in tqdm(gray)]\n"
      ],
      "execution_count": null,
      "outputs": []
    },
    {
      "cell_type": "code",
      "metadata": {
        "id": "2ah9oh8TGUNT"
      },
      "source": [
        "edges = [cv2.dilate(cv2.Canny(img, 0, 255), None) for img in tqdm(thresh)]\n",
        "masked = []\n",
        "segmented = []\n",
        "for i, img in tqdm(enumerate(edges)):\n",
        "    cnt = sorted(cv2.findContours(img, cv2.RETR_LIST, cv2.CHAIN_APPROX_SIMPLE)[-2], key=cv2.contourArea)[-1]\n",
        "    mask = np.zeros((256,256), np.uint8)\n",
        "    masked.append(cv2.drawContours(mask, [cnt],-1, 255, -1))\n",
        "    dst = cv2.bitwise_and(img_arr[i], img_arr[i], mask=mask)\n",
        "    segmented.append(cv2.cvtColor(dst, cv2.COLOR_BGR2RGB))\n",
        "plt.figure(figsize=(9,9))\n",
        "for i, segimg in enumerate(masked[0:25]):\n",
        "    plt.subplot(5,5,i+1)\n",
        "    plt.xticks([])\n",
        "    plt.yticks([])\n",
        "    plt.grid(False)\n",
        "    plt.imshow(cv2.cvtColor(segimg, cv2.COLOR_BGR2RGB))\n",
        "    plt.suptitle(\"Visualizing Segmented Masks\", fontsize=20)\n",
        "plt.show()"
      ],
      "execution_count": null,
      "outputs": []
    },
    {
      "cell_type": "code",
      "metadata": {
        "id": "8UGTngdzGUNT"
      },
      "source": [
        "plt.figure(figsize=(9,9))\n",
        "for i, segimg in enumerate(segmented[0:25]):\n",
        "    plt.subplot(5,5,i+1)\n",
        "    plt.xticks([])\n",
        "    plt.yticks([])\n",
        "    plt.grid(False)\n",
        "    plt.imshow(cv2.cvtColor(segimg, cv2.COLOR_BGR2RGB))\n",
        "    plt.suptitle(\"Segmented\", fontsize=20)\n",
        "plt.show()"
      ],
      "execution_count": null,
      "outputs": []
    }
  ]
}