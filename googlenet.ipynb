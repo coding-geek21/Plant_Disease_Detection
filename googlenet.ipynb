{
  "nbformat": 4,
  "nbformat_minor": 0,
  "metadata": {
    "colab": {
      "name": "googlenet.ipynb",
      "provenance": [],
      "collapsed_sections": [],
      "mount_file_id": "1fp0ilq-BPYlwGV1d6LfmWGCeZkrEGIRs",
      "authorship_tag": "ABX9TyOjxbTBi5zx6G30KrQFeXBe",
      "include_colab_link": true
    },
    "kernelspec": {
      "name": "python3",
      "display_name": "Python 3"
    },
    "language_info": {
      "name": "python"
    }
  },
  "cells": [
    {
      "cell_type": "markdown",
      "metadata": {
        "id": "view-in-github",
        "colab_type": "text"
      },
      "source": [
        "<a href=\"https://colab.research.google.com/github/pradhicsha6/Plant_Disease_Detection/blob/main/googlenet.ipynb\" target=\"_parent\"><img src=\"https://colab.research.google.com/assets/colab-badge.svg\" alt=\"Open In Colab\"/></a>"
      ]
    },
    {
      "cell_type": "code",
      "metadata": {
        "id": "uu4Iaym0Qu-D"
      },
      "source": [
        "from tensorflow.keras.layers import Input, Lambda, Dense, Flatten\n",
        "from tensorflow.keras.models import Model\n",
        "from tensorflow.keras.applications.inception_v3 import InceptionV3\n",
        "#from keras.applications.vgg16 import VGG16\n",
        "from tensorflow.keras.applications.inception_v3 import preprocess_input\n",
        "from tensorflow.keras.preprocessing import image\n",
        "from tensorflow.keras.preprocessing.image import ImageDataGenerator,load_img\n",
        "from tensorflow.keras.models import Sequential\n",
        "import numpy as np\n",
        "from glob import glob\n",
        "#import matplotlib.pyplot as plt"
      ],
      "execution_count": 1,
      "outputs": []
    },
    {
      "cell_type": "code",
      "metadata": {
        "id": "T3LQGDSnRyHe"
      },
      "source": [
        "IMAGE_SIZE = [224,224]\n",
        "\n",
        "train_path = '/content/drive/MyDrive/summer project/data/train'\n",
        "valid_path = '/content/drive/MyDrive/summer project/data/test'"
      ],
      "execution_count": 2,
      "outputs": []
    },
    {
      "cell_type": "code",
      "metadata": {
        "id": "4w8BNgU-SAZI"
      },
      "source": [
        "inception = InceptionV3(input_shape=IMAGE_SIZE + [3], weights='imagenet', include_top=False)"
      ],
      "execution_count": 3,
      "outputs": []
    },
    {
      "cell_type": "code",
      "metadata": {
        "id": "JyEMOWcjSGa8"
      },
      "source": [
        "for layer in inception.layers:\n",
        "    layer.trainable = False"
      ],
      "execution_count": 4,
      "outputs": []
    },
    {
      "cell_type": "code",
      "metadata": {
        "id": "qxLUASkDSL5m"
      },
      "source": [
        "folders = glob('/content/drive/MyDrive/summer project/data/train/*')"
      ],
      "execution_count": 5,
      "outputs": []
    },
    {
      "cell_type": "code",
      "metadata": {
        "id": "swFu25xVSUlu"
      },
      "source": [
        "x = Flatten()(inception.output)"
      ],
      "execution_count": 6,
      "outputs": []
    },
    {
      "cell_type": "code",
      "metadata": {
        "id": "nTCknvDBSYEG"
      },
      "source": [
        "prediction = Dense(len(folders), activation='softmax')(x)\n",
        "\n",
        "# create a model object\n",
        "model = Model(inputs=inception.input, outputs=prediction)"
      ],
      "execution_count": 7,
      "outputs": []
    },
    {
      "cell_type": "code",
      "metadata": {
        "id": "RJs4aNnzScOM"
      },
      "source": [
        "model.compile(\n",
        "  loss='categorical_crossentropy',\n",
        "  optimizer='adam',\n",
        "  metrics=['accuracy']\n",
        ")"
      ],
      "execution_count": 8,
      "outputs": []
    },
    {
      "cell_type": "code",
      "metadata": {
        "id": "cqN08wDzSmMO"
      },
      "source": [
        "from tensorflow.keras.preprocessing.image import ImageDataGenerator\n",
        "\n",
        "train_datagen = ImageDataGenerator(rescale = 1./255,\n",
        "                                   shear_range = 0.2,\n",
        "                                   zoom_range = 0.2,\n",
        "                                   horizontal_flip = True)\n",
        "\n",
        "test_datagen = ImageDataGenerator(rescale = 1./255)"
      ],
      "execution_count": 9,
      "outputs": []
    },
    {
      "cell_type": "code",
      "metadata": {
        "colab": {
          "base_uri": "https://localhost:8080/"
        },
        "id": "c5YlAo3TSrib",
        "outputId": "9f04e2b6-2ad7-4493-ea59-45e827ddcafe"
      },
      "source": [
        "training_set = train_datagen.flow_from_directory('/content/drive/MyDrive/summer project/data/train',\n",
        "                                                 target_size = (224, 224),\n",
        "                                                 batch_size = 32,\n",
        "                                                 class_mode = 'categorical')"
      ],
      "execution_count": 10,
      "outputs": [
        {
          "output_type": "stream",
          "name": "stdout",
          "text": [
            "Found 1951 images belonging to 4 classes.\n"
          ]
        }
      ]
    },
    {
      "cell_type": "code",
      "metadata": {
        "colab": {
          "base_uri": "https://localhost:8080/"
        },
        "id": "Cttt6cMjS0qA",
        "outputId": "dc9e9c3b-3749-45b6-fc7b-b60b177608d3"
      },
      "source": [
        "test_set = test_datagen.flow_from_directory('/content/drive/MyDrive/summer project/data/test',\n",
        "                                            target_size = (224, 224),\n",
        "                                            batch_size = 32,\n",
        "                                            class_mode = 'categorical')"
      ],
      "execution_count": 11,
      "outputs": [
        {
          "output_type": "stream",
          "name": "stdout",
          "text": [
            "Found 18 images belonging to 4 classes.\n"
          ]
        }
      ]
    },
    {
      "cell_type": "code",
      "metadata": {
        "colab": {
          "base_uri": "https://localhost:8080/"
        },
        "id": "M-OGnkhvTPfh",
        "outputId": "bb65a000-fc96-4be0-e351-faba678f4e1e"
      },
      "source": [
        "r = model.fit_generator(\n",
        "  training_set,\n",
        "  validation_data=test_set,\n",
        "  epochs=20,\n",
        "  steps_per_epoch=len(training_set),\n",
        "  validation_steps=len(test_set)\n",
        ")"
      ],
      "execution_count": 12,
      "outputs": [
        {
          "output_type": "stream",
          "name": "stderr",
          "text": [
            "/usr/local/lib/python3.7/dist-packages/keras/engine/training.py:1972: UserWarning: `Model.fit_generator` is deprecated and will be removed in a future version. Please use `Model.fit`, which supports generators.\n",
            "  warnings.warn('`Model.fit_generator` is deprecated and '\n"
          ]
        },
        {
          "output_type": "stream",
          "name": "stdout",
          "text": [
            "Epoch 1/20\n",
            "61/61 [==============================] - 246s 4s/step - loss: 1.9332 - accuracy: 0.7412 - val_loss: 0.0151 - val_accuracy: 1.0000\n",
            "Epoch 2/20\n",
            "61/61 [==============================] - 233s 4s/step - loss: 0.7374 - accuracy: 0.8903 - val_loss: 0.2095 - val_accuracy: 0.9444\n",
            "Epoch 3/20\n",
            "61/61 [==============================] - 233s 4s/step - loss: 0.6058 - accuracy: 0.8985 - val_loss: 0.4166 - val_accuracy: 0.8889\n",
            "Epoch 4/20\n",
            "61/61 [==============================] - 233s 4s/step - loss: 0.4706 - accuracy: 0.9267 - val_loss: 0.3926 - val_accuracy: 0.9444\n",
            "Epoch 5/20\n",
            "61/61 [==============================] - 233s 4s/step - loss: 0.3669 - accuracy: 0.9359 - val_loss: 0.0251 - val_accuracy: 1.0000\n",
            "Epoch 6/20\n",
            "61/61 [==============================] - 233s 4s/step - loss: 0.6929 - accuracy: 0.9083 - val_loss: 0.5191 - val_accuracy: 0.8889\n",
            "Epoch 7/20\n",
            "61/61 [==============================] - 233s 4s/step - loss: 0.5976 - accuracy: 0.9293 - val_loss: 0.7530 - val_accuracy: 0.7778\n",
            "Epoch 8/20\n",
            "61/61 [==============================] - 233s 4s/step - loss: 0.5904 - accuracy: 0.9318 - val_loss: 0.0017 - val_accuracy: 1.0000\n",
            "Epoch 9/20\n",
            "61/61 [==============================] - 233s 4s/step - loss: 0.3692 - accuracy: 0.9508 - val_loss: 0.4496 - val_accuracy: 0.9444\n",
            "Epoch 10/20\n",
            "61/61 [==============================] - 233s 4s/step - loss: 0.5187 - accuracy: 0.9334 - val_loss: 0.0939 - val_accuracy: 0.9444\n",
            "Epoch 11/20\n",
            "61/61 [==============================] - 233s 4s/step - loss: 0.4178 - accuracy: 0.9457 - val_loss: 3.9743e-04 - val_accuracy: 1.0000\n",
            "Epoch 12/20\n",
            "61/61 [==============================] - 233s 4s/step - loss: 0.4706 - accuracy: 0.9364 - val_loss: 0.0974 - val_accuracy: 0.9444\n",
            "Epoch 13/20\n",
            "61/61 [==============================] - 233s 4s/step - loss: 0.5031 - accuracy: 0.9446 - val_loss: 0.0303 - val_accuracy: 1.0000\n",
            "Epoch 14/20\n",
            "61/61 [==============================] - 233s 4s/step - loss: 0.6338 - accuracy: 0.9411 - val_loss: 0.1241 - val_accuracy: 0.9444\n",
            "Epoch 15/20\n",
            "61/61 [==============================] - 233s 4s/step - loss: 0.5051 - accuracy: 0.9457 - val_loss: 0.3314 - val_accuracy: 0.9444\n",
            "Epoch 16/20\n",
            "61/61 [==============================] - 233s 4s/step - loss: 0.4530 - accuracy: 0.9559 - val_loss: 0.3533 - val_accuracy: 0.8889\n",
            "Epoch 17/20\n",
            "61/61 [==============================] - 233s 4s/step - loss: 0.3825 - accuracy: 0.9708 - val_loss: 0.8476 - val_accuracy: 0.8889\n",
            "Epoch 18/20\n",
            "61/61 [==============================] - 235s 4s/step - loss: 0.5326 - accuracy: 0.9431 - val_loss: 1.2403 - val_accuracy: 0.8333\n",
            "Epoch 19/20\n",
            "61/61 [==============================] - 232s 4s/step - loss: 0.3879 - accuracy: 0.9600 - val_loss: 0.0042 - val_accuracy: 1.0000\n",
            "Epoch 20/20\n",
            "61/61 [==============================] - 232s 4s/step - loss: 0.4745 - accuracy: 0.9595 - val_loss: 0.0422 - val_accuracy: 1.0000\n"
          ]
        }
      ]
    },
    {
      "cell_type": "code",
      "metadata": {
        "colab": {
          "base_uri": "https://localhost:8080/"
        },
        "id": "Zz0xAh9zHFMx",
        "outputId": "ed8a0f62-df8e-4a69-8f2e-b73910a4b0fc"
      },
      "source": [
        "pip install torchvision "
      ],
      "execution_count": 13,
      "outputs": [
        {
          "output_type": "stream",
          "name": "stdout",
          "text": [
            "Requirement already satisfied: torchvision in /usr/local/lib/python3.7/dist-packages (0.10.0+cu111)\n",
            "Requirement already satisfied: pillow>=5.3.0 in /usr/local/lib/python3.7/dist-packages (from torchvision) (7.1.2)\n",
            "Requirement already satisfied: numpy in /usr/local/lib/python3.7/dist-packages (from torchvision) (1.19.5)\n",
            "Requirement already satisfied: torch==1.9.0 in /usr/local/lib/python3.7/dist-packages (from torchvision) (1.9.0+cu111)\n",
            "Requirement already satisfied: typing-extensions in /usr/local/lib/python3.7/dist-packages (from torch==1.9.0->torchvision) (3.7.4.3)\n"
          ]
        }
      ]
    },
    {
      "cell_type": "code",
      "metadata": {
        "id": "0sk9vCXguYop"
      },
      "source": [
        "import matplotlib.pyplot as plt"
      ],
      "execution_count": 14,
      "outputs": []
    },
    {
      "cell_type": "code",
      "metadata": {
        "colab": {
          "base_uri": "https://localhost:8080/",
          "height": 531
        },
        "id": "DCbIUGFwuaXD",
        "outputId": "b3d62487-d271-4ac3-b609-14c8f0441c34"
      },
      "source": [
        "# plot the loss\n",
        "plt.plot(r.history['loss'], label='train loss')\n",
        "plt.plot(r.history['val_loss'], label='val loss')\n",
        "plt.legend()\n",
        "plt.show()\n",
        "plt.savefig('LossVal_loss')\n",
        "\n",
        "# plot the accuracy\n",
        "plt.plot(r.history['accuracy'], label='train acc')\n",
        "plt.plot(r.history['val_accuracy'], label='val acc')\n",
        "plt.legend()\n",
        "plt.show()\n",
        "plt.savefig('AccVal_acc')"
      ],
      "execution_count": 15,
      "outputs": [
        {
          "output_type": "display_data",
          "data": {
            "image/png": "[encoded data removed]",
            "text/plain": [
              "<Figure size 432x288 with 1 Axes>"
            ]
          },
          "metadata": {
            "needs_background": "light"
          }
        },
        {
          "output_type": "display_data",
          "data": {
            "image/png": "[encoded data removed]",
            "text/plain": [
              "<Figure size 432x288 with 1 Axes>"
            ]
          },
          "metadata": {
            "needs_background": "light"
          }
        },
        {
          "output_type": "display_data",
          "data": {
            "text/plain": [
              "<Figure size 432x288 with 0 Axes>"
            ]
          },
          "metadata": {}
        }
      ]
    },
    {
      "cell_type": "code",
      "metadata": {
        "id": "xCV59EeCuvPh"
      },
      "source": [
        "from tensorflow.keras.models import load_model\n",
        "\n",
        "model.save('Model_Inception.h5')"
      ],
      "execution_count": 17,
      "outputs": []
    }
  ]
}